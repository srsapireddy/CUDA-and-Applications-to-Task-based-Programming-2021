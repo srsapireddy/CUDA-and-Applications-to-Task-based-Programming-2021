{
  "nbformat": 4,
  "nbformat_minor": 0,
  "metadata": {
    "colab": {
      "provenance": []
    },
    "kernelspec": {
      "name": "python3",
      "display_name": "Python 3"
    },
    "language_info": {
      "name": "python"
    },
    "accelerator": "GPU",
    "gpuClass": "standard"
  },
  "cells": [
    {
      "cell_type": "code",
      "execution_count": 1,
      "metadata": {
        "colab": {
          "base_uri": "https://localhost:8080/"
        },
        "id": "0pYIKxE9lTu6",
        "outputId": "e766c0ba-4315-4511-c565-9cc80c760020"
      },
      "outputs": [
        {
          "output_type": "stream",
          "name": "stdout",
          "text": [
            "nvcc: NVIDIA (R) Cuda compiler driver\n",
            "Copyright (c) 2005-2022 NVIDIA Corporation\n",
            "Built on Wed_Sep_21_10:33:58_PDT_2022\n",
            "Cuda compilation tools, release 11.8, V11.8.89\n",
            "Build cuda_11.8.r11.8/compiler.31833905_0\n"
          ]
        }
      ],
      "source": [
        "!nvcc --version"
      ]
    },
    {
      "cell_type": "code",
      "source": [
        "!pip install git+https://github.com/andreinechaev/nvcc4jupyter.git"
      ],
      "metadata": {
        "colab": {
          "base_uri": "https://localhost:8080/"
        },
        "id": "3JcYnYJesa_W",
        "outputId": "0666ba69-57f9-4b84-965d-971aef27d153"
      },
      "execution_count": 2,
      "outputs": [
        {
          "output_type": "stream",
          "name": "stdout",
          "text": [
            "Looking in indexes: https://pypi.org/simple, https://us-python.pkg.dev/colab-wheels/public/simple/\n",
            "Collecting git+https://github.com/andreinechaev/nvcc4jupyter.git\n",
            "  Cloning https://github.com/andreinechaev/nvcc4jupyter.git to /tmp/pip-req-build-nsalqinz\n",
            "  Running command git clone --filter=blob:none --quiet https://github.com/andreinechaev/nvcc4jupyter.git /tmp/pip-req-build-nsalqinz\n",
            "  Resolved https://github.com/andreinechaev/nvcc4jupyter.git to commit aac710a35f52bb78ab34d2e52517237941399eff\n",
            "  Preparing metadata (setup.py) ... \u001b[?25l\u001b[?25hdone\n",
            "Building wheels for collected packages: NVCCPlugin\n",
            "  Building wheel for NVCCPlugin (setup.py) ... \u001b[?25l\u001b[?25hdone\n",
            "  Created wheel for NVCCPlugin: filename=NVCCPlugin-0.0.2-py3-none-any.whl size=4305 sha256=206f0817326232a114948e047a152788e539c5248582c6a033b6e404e8dac56a\n",
            "  Stored in directory: /tmp/pip-ephem-wheel-cache-dgacwgq8/wheels/db/c1/1f/a2bb07bbb4a1ce3c43921252aeafaa6205f08637e292496f04\n",
            "Successfully built NVCCPlugin\n",
            "Installing collected packages: NVCCPlugin\n",
            "Successfully installed NVCCPlugin-0.0.2\n"
          ]
        }
      ]
    },
    {
      "cell_type": "code",
      "source": [
        "%load_ext nvcc_plugin"
      ],
      "metadata": {
        "colab": {
          "base_uri": "https://localhost:8080/"
        },
        "id": "AFpOhJRYskJH",
        "outputId": "06148a7b-ef8e-4f21-8d7d-b53d16f186b8"
      },
      "execution_count": 3,
      "outputs": [
        {
          "output_type": "stream",
          "name": "stdout",
          "text": [
            "created output directory at /content/src\n",
            "Out bin /content/result.out\n"
          ]
        }
      ]
    },
    {
      "cell_type": "code",
      "source": [
        "%%cuda --name testGoogleColab.cu\n",
        "\n",
        "#include <cuda_runtime_api.h>\n",
        "#include <iostream>\n",
        "#include \"../../shared/include/utility.h\"\n",
        "\n",
        "int main()\n",
        "{\n",
        "    std::cout << \"==== Sample 05 - Independent Thread Scheduling ====\\n\" << std::endl;\n",
        "    /*\n",
        "     This code will launch a particular test kernel.\n",
        "     It will launch 4 threads in total.\n",
        "     The program code is structured such that each\n",
        "     thread enters one of 4 possible branches and then\n",
        "     atomically increments a GPU variable N times:\n",
        "    \n",
        "                .---- N operations by Thread 0\n",
        "           ----X\n",
        "         /      '---- N operations by Thread 1\n",
        "    ----X\n",
        "         \\      .---- N operations by Thread 2\n",
        "           ----X\n",
        "                '---- N operations by Thread 3\n",
        "    \n",
        "     Each thread will document consecutive ranges of \n",
        "     values it observed for the incremented variable.  \n",
        "     Basically, this will give us an idea how threads\n",
        "     take turns running in this branching scenario.\n",
        "    \n",
        "     Expected output: Many smaller observed value ranges!\n",
        "     Independent thread scheduling is free to switch \n",
        "     between branches to keep the compute units of the \n",
        "     GPU busy with work. Thus, threads can alternate \n",
        "     taking turns to complete their N steps each.\n",
        "    \n",
        "     Disclaimer: behavior is dependent on scheduling at\n",
        "     runtime. Results may vary.\n",
        "     */\n",
        "\n",
        "    constexpr int N = 128;\n",
        "    // Using a utility function for demonstration\n",
        "    samplesutil::run2NestedBranchesForNSteps(N);\n",
        "    return 0;\n",
        "}\n"
      ],
      "metadata": {
        "colab": {
          "base_uri": "https://localhost:8080/",
          "height": 35
        },
        "id": "bHAnTe8EsmNm",
        "outputId": "3e8d4925-56ee-4507-f249-e5795c1e6a39"
      },
      "execution_count": 4,
      "outputs": [
        {
          "output_type": "execute_result",
          "data": {
            "text/plain": [
              "'File written in /content/src/testGoogleColab.cu'"
            ],
            "application/vnd.google.colaboratory.intrinsic+json": {
              "type": "string"
            }
          },
          "metadata": {},
          "execution_count": 4
        }
      ]
    }
  ]
}