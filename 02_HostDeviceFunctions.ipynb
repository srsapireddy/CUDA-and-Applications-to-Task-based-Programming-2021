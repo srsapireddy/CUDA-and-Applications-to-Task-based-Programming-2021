{
  "nbformat": 4,
  "nbformat_minor": 0,
  "metadata": {
    "colab": {
      "provenance": []
    },
    "kernelspec": {
      "name": "python3",
      "display_name": "Python 3"
    },
    "language_info": {
      "name": "python"
    },
    "accelerator": "GPU",
    "gpuClass": "premium"
  },
  "cells": [
    {
      "cell_type": "code",
      "execution_count": 1,
      "metadata": {
        "colab": {
          "base_uri": "https://localhost:8080/"
        },
        "id": "5jxTe5lO7R7g",
        "outputId": "08e4fa67-06b6-4161-a291-9979b9a6d85c"
      },
      "outputs": [
        {
          "output_type": "stream",
          "name": "stdout",
          "text": [
            "nvcc: NVIDIA (R) Cuda compiler driver\n",
            "Copyright (c) 2005-2022 NVIDIA Corporation\n",
            "Built on Wed_Sep_21_10:33:58_PDT_2022\n",
            "Cuda compilation tools, release 11.8, V11.8.89\n",
            "Build cuda_11.8.r11.8/compiler.31833905_0\n"
          ]
        }
      ],
      "source": [
        "!nvcc --version"
      ]
    },
    {
      "cell_type": "code",
      "source": [
        "!pip install git+https://github.com/andreinechaev/nvcc4jupyter.git"
      ],
      "metadata": {
        "colab": {
          "base_uri": "https://localhost:8080/"
        },
        "id": "SGGTsF3n7agD",
        "outputId": "67592477-30e6-42dd-9574-e0f67b12f019"
      },
      "execution_count": 2,
      "outputs": [
        {
          "output_type": "stream",
          "name": "stdout",
          "text": [
            "Looking in indexes: https://pypi.org/simple, https://us-python.pkg.dev/colab-wheels/public/simple/\n",
            "Collecting git+https://github.com/andreinechaev/nvcc4jupyter.git\n",
            "  Cloning https://github.com/andreinechaev/nvcc4jupyter.git to /tmp/pip-req-build-vc4m8im6\n",
            "  Running command git clone --filter=blob:none --quiet https://github.com/andreinechaev/nvcc4jupyter.git /tmp/pip-req-build-vc4m8im6\n",
            "  Resolved https://github.com/andreinechaev/nvcc4jupyter.git to commit aac710a35f52bb78ab34d2e52517237941399eff\n",
            "  Preparing metadata (setup.py) ... \u001b[?25l\u001b[?25hdone\n",
            "Building wheels for collected packages: NVCCPlugin\n",
            "  Building wheel for NVCCPlugin (setup.py) ... \u001b[?25l\u001b[?25hdone\n",
            "  Created wheel for NVCCPlugin: filename=NVCCPlugin-0.0.2-py3-none-any.whl size=4304 sha256=a13531e6a6fbbca0d8578f715f29a185d8f43b80583d2cb02e215c9d334016bd\n",
            "  Stored in directory: /tmp/pip-ephem-wheel-cache-ewcgnush/wheels/db/c1/1f/a2bb07bbb4a1ce3c43921252aeafaa6205f08637e292496f04\n",
            "Successfully built NVCCPlugin\n",
            "Installing collected packages: NVCCPlugin\n",
            "Successfully installed NVCCPlugin-0.0.2\n"
          ]
        }
      ]
    },
    {
      "cell_type": "code",
      "source": [
        "%load_ext nvcc_plugin"
      ],
      "metadata": {
        "colab": {
          "base_uri": "https://localhost:8080/"
        },
        "id": "kQy9V5CZ7dRi",
        "outputId": "15a4c143-b241-44b6-9067-c0ed031bc506"
      },
      "execution_count": 3,
      "outputs": [
        {
          "output_type": "stream",
          "name": "stdout",
          "text": [
            "created output directory at /content/src\n",
            "Out bin /content/result.out\n"
          ]
        }
      ]
    },
    {
      "cell_type": "code",
      "source": [
        "%%cuda --name testGoogleColab.cu\n",
        "\n",
        "#include <cuda_runtime_api.h>\n",
        "#include <iostream>\n",
        "\n",
        "// Define a function that will only be compiled for and called from host\n",
        "__host__ void HostOnly()\n",
        "{\n",
        "    std::cout << \"This function may only be called from the host\" << std::endl;\n",
        "}\n",
        "\n",
        "// Define a function that will only be compiled for and called from device\n",
        "__device__ void DeviceOnly()\n",
        "{\n",
        "    printf(\"This function may only be called from the device\\n\");\n",
        "}\n",
        "\n",
        "// Define a function that will be compiled for both architectures\n",
        "__host__ __device__ float SquareAnywhere(float x)\n",
        "{\n",
        "    return x * x;\n",
        "}\n",
        "\n",
        "// Call device and portable functions from a kernel\n",
        "__global__ void RunGPU(float x)\n",
        "{\n",
        "    DeviceOnly();\n",
        "    printf(\"%f\\n\", SquareAnywhere(x));\n",
        "}\n",
        "\n",
        "/*\n",
        " Call host and portable functions from a kernel\n",
        " Note that, by default, if a function has no architecture\n",
        " specified, it is assumed to be __host__ by NVCC.\n",
        "*/\n",
        "void RunCPU(float x)\n",
        "{\n",
        "    HostOnly();\n",
        "    std::cout << SquareAnywhere(x) << std::endl;\n",
        "}\n",
        "\n",
        "int main()\n",
        "{\n",
        "    std::cout << \"==== Sample 02 - Host / Device Functions ====\\n\" << std::endl;\n",
        "    /*\n",
        "     Expected output:\n",
        "     \"This function may only be called from the host\"\n",
        "     1764\n",
        "     \"This function may only be called from the device\"\n",
        "     1764.00\n",
        "    */\n",
        "\n",
        "    RunCPU(42);\n",
        "    RunGPU<<<1, 1>>>(42);\n",
        "    cudaDeviceSynchronize();\n",
        "    return 0;\n",
        "}\n",
        "\n",
        "/*\n",
        "Exercises:\n",
        "1) Write a function that prints a message and can run on both the device and host\n",
        "2) Revise the function from 1, such that the CPU version use std::cout. Use the \n",
        "__CUDA_ARCH__ macro to write code paths that contain architecture-specific code.\n",
        "*/"
      ],
      "metadata": {
        "colab": {
          "base_uri": "https://localhost:8080/",
          "height": 35
        },
        "id": "SSneJ3Mp7fi0",
        "outputId": "b0e7c128-563a-467f-b1d7-93ab881f2684"
      },
      "execution_count": 5,
      "outputs": [
        {
          "output_type": "execute_result",
          "data": {
            "text/plain": [
              "'File written in /content/src/testGoogleColab.cu'"
            ],
            "application/vnd.google.colaboratory.intrinsic+json": {
              "type": "string"
            }
          },
          "metadata": {},
          "execution_count": 5
        }
      ]
    },
    {
      "cell_type": "code",
      "source": [
        "!nvcc -arch=sm_75 -o \"/content/src/testGoogleColab.o\" /content/src/testGoogleColab.cu"
      ],
      "metadata": {
        "id": "lSca6d-_7oxt"
      },
      "execution_count": 6,
      "outputs": []
    },
    {
      "cell_type": "code",
      "source": [
        "!chmod 755 /content/src/testGoogleColab.o\n",
        "!/content/src/testGoogleColab.o"
      ],
      "metadata": {
        "colab": {
          "base_uri": "https://localhost:8080/"
        },
        "id": "5B2eEbxJ7q4Q",
        "outputId": "9a28684f-fca0-4920-a27d-eb1e465d0e39"
      },
      "execution_count": 7,
      "outputs": [
        {
          "output_type": "stream",
          "name": "stdout",
          "text": [
            "==== Sample 02 - Host / Device Functions ====\n",
            "\n",
            "This function may only be called from the host\n",
            "1764\n",
            "This function may only be called from the device\n",
            "1764.000000\n"
          ]
        }
      ]
    }
  ]
}